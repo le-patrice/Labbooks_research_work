{
 "cells": [
  {
   "cell_type": "code",
   "execution_count": null,
   "id": "09327110",
   "metadata": {},
   "outputs": [],
   "source": [
    "# An advanced receipt image processing class and function with a label of the file name. that can process all most all kinds of receipts in all states \n",
    "\n",
    "import cv2\n",
    "import pytesseract\n",
    "import numpy as np\n",
    "def process_receipt_image(image_path):\n",
    "    \"\"\"\n",
    "    Process a receipt image to extract text and return the processed image.\n",
    "    \n",
    "    :param image_path: Path to the receipt image file.\n",
    "    :return: Tuple of (processed_image, extracted_text).\n",
    "    \"\"\"\n",
    "    # Load the image\n",
    "    image = cv2.imread(image_path)\n",
    "    \n",
    "    # Convert to grayscale\n",
    "    gray = cv2.cvtColor(image, cv2.COLOR_BGR2GRAY)\n",
    "    \n",
    "    # Apply Gaussian blur to reduce noise\n",
    "    blurred = cv2.GaussianBlur(gray, (5, 5), 0)\n",
    "    \n",
    "    # Thresholding to get a binary image\n",
    "    _, binary = cv2.threshold(blurred, 0, 255, cv2.THRESH_BINARY + cv2.THRESH_OTSU)\n",
    "    \n",
    "    # Invert the binary image\n",
    "    inverted = cv2.bitwise_not(binary)\n",
    "    \n",
    "    # Use pytesseract to extract text\n",
    "    extracted_text = pytesseract.image_to_string(inverted, lang='eng')\n",
    "    \n",
    "    return inverted, extracted_text.strip()\n",
    "\n",
    "# Example usage\n",
    "if __name__ == \"__main__\":\n",
    "    image_path = \"path_to_your_receipt_image.jpg\"\n",
    "    processed_image, text = process_receipt_image(image_path)\n",
    "    \n",
    "    # Save the processed image\n",
    "    cv2.imwrite(\"processed_receipt.jpg\", processed_image)\n",
    "    \n",
    "    # Print the extracted text\n",
    "    print(\"Extracted Text:\")\n",
    "    print(text)\n",
    "    # Display the processed image\n",
    "    cv2.imshow(\"Processed Receipt\", processed_image)\n",
    "    cv2.waitKey(0)\n",
    "    cv2.destroyAllWindows()\n",
    "# Note: Ensure you have Tesseract OCR installed and configured correctly."
   ]
  },
  {
   "cell_type": "code",
   "execution_count": null,
   "id": "a164007e",
   "metadata": {},
   "outputs": [],
   "source": []
  }
 ],
 "metadata": {
  "kernelspec": {
   "display_name": "base",
   "language": "python",
   "name": "python3"
  },
  "language_info": {
   "name": "python",
   "version": "3.12.7"
  }
 },
 "nbformat": 4,
 "nbformat_minor": 5
}
